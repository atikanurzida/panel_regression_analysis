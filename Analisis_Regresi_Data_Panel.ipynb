{
  "cells": [
    {
      "cell_type": "markdown",
      "metadata": {
        "id": "view-in-github",
        "colab_type": "text"
      },
      "source": [
        "<a href=\"https://colab.research.google.com/github/atikanurzida/panel_regression_analysis/blob/main/Analisis_Regresi_Data_Panel.ipynb\" target=\"_parent\"><img src=\"https://colab.research.google.com/assets/colab-badge.svg\" alt=\"Open In Colab\"/></a>"
      ]
    },
    {
      "cell_type": "markdown",
      "metadata": {
        "id": "zBXQknrlbF-m"
      },
      "source": [
        "Analisis faktor pendidikan dan gini coefficient terhadap kemiskinan"
      ]
    },
    {
      "cell_type": "code",
      "execution_count": 84,
      "metadata": {
        "colab": {
          "base_uri": "https://localhost:8080/"
        },
        "collapsed": true,
        "id": "p2eT6mEXbNqa",
        "outputId": "3bf56a69-5685-4e93-d09d-de0b89585e4d"
      },
      "outputs": [
        {
          "output_type": "stream",
          "name": "stdout",
          "text": [
            "Requirement already satisfied: pandas in /usr/local/lib/python3.11/dist-packages (2.2.2)\n",
            "Requirement already satisfied: statsmodels in /usr/local/lib/python3.11/dist-packages (0.14.4)\n",
            "Requirement already satisfied: linearmodels in /usr/local/lib/python3.11/dist-packages (6.1)\n",
            "Requirement already satisfied: numpy>=1.23.2 in /usr/local/lib/python3.11/dist-packages (from pandas) (2.0.2)\n",
            "Requirement already satisfied: python-dateutil>=2.8.2 in /usr/local/lib/python3.11/dist-packages (from pandas) (2.8.2)\n",
            "Requirement already satisfied: pytz>=2020.1 in /usr/local/lib/python3.11/dist-packages (from pandas) (2025.1)\n",
            "Requirement already satisfied: tzdata>=2022.7 in /usr/local/lib/python3.11/dist-packages (from pandas) (2025.1)\n",
            "Requirement already satisfied: scipy!=1.9.2,>=1.8 in /usr/local/lib/python3.11/dist-packages (from statsmodels) (1.14.1)\n",
            "Requirement already satisfied: patsy>=0.5.6 in /usr/local/lib/python3.11/dist-packages (from statsmodels) (1.0.1)\n",
            "Requirement already satisfied: packaging>=21.3 in /usr/local/lib/python3.11/dist-packages (from statsmodels) (24.2)\n",
            "Requirement already satisfied: mypy-extensions>=0.4 in /usr/local/lib/python3.11/dist-packages (from linearmodels) (1.0.0)\n",
            "Requirement already satisfied: Cython>=3.0.10 in /usr/local/lib/python3.11/dist-packages (from linearmodels) (3.0.12)\n",
            "Requirement already satisfied: pyhdfe>=0.1 in /usr/local/lib/python3.11/dist-packages (from linearmodels) (0.2.0)\n",
            "Requirement already satisfied: formulaic>=1.0.0 in /usr/local/lib/python3.11/dist-packages (from linearmodels) (1.1.1)\n",
            "Requirement already satisfied: setuptools-scm<9.0.0,>=8.0.0 in /usr/local/lib/python3.11/dist-packages (from setuptools-scm[toml]<9.0.0,>=8.0.0->linearmodels) (8.2.0)\n",
            "Requirement already satisfied: interface-meta>=1.2.0 in /usr/local/lib/python3.11/dist-packages (from formulaic>=1.0.0->linearmodels) (1.3.0)\n",
            "Requirement already satisfied: typing-extensions>=4.2.0 in /usr/local/lib/python3.11/dist-packages (from formulaic>=1.0.0->linearmodels) (4.12.2)\n",
            "Requirement already satisfied: wrapt>=1.0 in /usr/local/lib/python3.11/dist-packages (from formulaic>=1.0.0->linearmodels) (1.17.2)\n",
            "Requirement already satisfied: six>=1.5 in /usr/local/lib/python3.11/dist-packages (from python-dateutil>=2.8.2->pandas) (1.17.0)\n",
            "Requirement already satisfied: setuptools>=61 in /usr/local/lib/python3.11/dist-packages (from setuptools-scm<9.0.0,>=8.0.0->setuptools-scm[toml]<9.0.0,>=8.0.0->linearmodels) (75.1.0)\n"
          ]
        }
      ],
      "source": [
        "import pandas as pd\n",
        "import numpy as np\n",
        "import matplotlib.pyplot as plt\n",
        "import seaborn as sns\n",
        "from sklearn.preprocessing import StandardScaler # untuk standardisasi data\n",
        "!pip install pandas statsmodels linearmodels # harus diinstal\n",
        "import statsmodels.api as sm\n",
        "from linearmodels.panel import PooledOLS, PanelOLS # untuk modeling\n",
        "from scipy import stats # untuk uji chow\n",
        "from scipy.stats import jarque_bera # untuk uji normalitas\n",
        "from scipy.stats import skew, kurtosis\n",
        "from statsmodels.stats.diagnostic import het_breuschpagan # untuk uji heteroskedastisitas"
      ]
    },
    {
      "cell_type": "code",
      "source": [],
      "metadata": {
        "id": "H6jHCHRfSUDe"
      },
      "execution_count": null,
      "outputs": []
    },
    {
      "cell_type": "markdown",
      "source": [],
      "metadata": {
        "id": "3BoEBXKhe4z6"
      }
    },
    {
      "cell_type": "code",
      "execution_count": 57,
      "metadata": {
        "colab": {
          "base_uri": "https://localhost:8080/",
          "height": 73
        },
        "id": "BEB-EOS1d_pz",
        "collapsed": true,
        "outputId": "b39a5132-3ad9-477b-e02a-af9d1fc964ef"
      },
      "outputs": [
        {
          "output_type": "display_data",
          "data": {
            "text/plain": [
              "<IPython.core.display.HTML object>"
            ],
            "text/html": [
              "\n",
              "     <input type=\"file\" id=\"files-f5608fb4-ccc5-427f-bf16-256cd50d0215\" name=\"files[]\" multiple disabled\n",
              "        style=\"border:none\" />\n",
              "     <output id=\"result-f5608fb4-ccc5-427f-bf16-256cd50d0215\">\n",
              "      Upload widget is only available when the cell has been executed in the\n",
              "      current browser session. Please rerun this cell to enable.\n",
              "      </output>\n",
              "      <script>// Copyright 2017 Google LLC\n",
              "//\n",
              "// Licensed under the Apache License, Version 2.0 (the \"License\");\n",
              "// you may not use this file except in compliance with the License.\n",
              "// You may obtain a copy of the License at\n",
              "//\n",
              "//      http://www.apache.org/licenses/LICENSE-2.0\n",
              "//\n",
              "// Unless required by applicable law or agreed to in writing, software\n",
              "// distributed under the License is distributed on an \"AS IS\" BASIS,\n",
              "// WITHOUT WARRANTIES OR CONDITIONS OF ANY KIND, either express or implied.\n",
              "// See the License for the specific language governing permissions and\n",
              "// limitations under the License.\n",
              "\n",
              "/**\n",
              " * @fileoverview Helpers for google.colab Python module.\n",
              " */\n",
              "(function(scope) {\n",
              "function span(text, styleAttributes = {}) {\n",
              "  const element = document.createElement('span');\n",
              "  element.textContent = text;\n",
              "  for (const key of Object.keys(styleAttributes)) {\n",
              "    element.style[key] = styleAttributes[key];\n",
              "  }\n",
              "  return element;\n",
              "}\n",
              "\n",
              "// Max number of bytes which will be uploaded at a time.\n",
              "const MAX_PAYLOAD_SIZE = 100 * 1024;\n",
              "\n",
              "function _uploadFiles(inputId, outputId) {\n",
              "  const steps = uploadFilesStep(inputId, outputId);\n",
              "  const outputElement = document.getElementById(outputId);\n",
              "  // Cache steps on the outputElement to make it available for the next call\n",
              "  // to uploadFilesContinue from Python.\n",
              "  outputElement.steps = steps;\n",
              "\n",
              "  return _uploadFilesContinue(outputId);\n",
              "}\n",
              "\n",
              "// This is roughly an async generator (not supported in the browser yet),\n",
              "// where there are multiple asynchronous steps and the Python side is going\n",
              "// to poll for completion of each step.\n",
              "// This uses a Promise to block the python side on completion of each step,\n",
              "// then passes the result of the previous step as the input to the next step.\n",
              "function _uploadFilesContinue(outputId) {\n",
              "  const outputElement = document.getElementById(outputId);\n",
              "  const steps = outputElement.steps;\n",
              "\n",
              "  const next = steps.next(outputElement.lastPromiseValue);\n",
              "  return Promise.resolve(next.value.promise).then((value) => {\n",
              "    // Cache the last promise value to make it available to the next\n",
              "    // step of the generator.\n",
              "    outputElement.lastPromiseValue = value;\n",
              "    return next.value.response;\n",
              "  });\n",
              "}\n",
              "\n",
              "/**\n",
              " * Generator function which is called between each async step of the upload\n",
              " * process.\n",
              " * @param {string} inputId Element ID of the input file picker element.\n",
              " * @param {string} outputId Element ID of the output display.\n",
              " * @return {!Iterable<!Object>} Iterable of next steps.\n",
              " */\n",
              "function* uploadFilesStep(inputId, outputId) {\n",
              "  const inputElement = document.getElementById(inputId);\n",
              "  inputElement.disabled = false;\n",
              "\n",
              "  const outputElement = document.getElementById(outputId);\n",
              "  outputElement.innerHTML = '';\n",
              "\n",
              "  const pickedPromise = new Promise((resolve) => {\n",
              "    inputElement.addEventListener('change', (e) => {\n",
              "      resolve(e.target.files);\n",
              "    });\n",
              "  });\n",
              "\n",
              "  const cancel = document.createElement('button');\n",
              "  inputElement.parentElement.appendChild(cancel);\n",
              "  cancel.textContent = 'Cancel upload';\n",
              "  const cancelPromise = new Promise((resolve) => {\n",
              "    cancel.onclick = () => {\n",
              "      resolve(null);\n",
              "    };\n",
              "  });\n",
              "\n",
              "  // Wait for the user to pick the files.\n",
              "  const files = yield {\n",
              "    promise: Promise.race([pickedPromise, cancelPromise]),\n",
              "    response: {\n",
              "      action: 'starting',\n",
              "    }\n",
              "  };\n",
              "\n",
              "  cancel.remove();\n",
              "\n",
              "  // Disable the input element since further picks are not allowed.\n",
              "  inputElement.disabled = true;\n",
              "\n",
              "  if (!files) {\n",
              "    return {\n",
              "      response: {\n",
              "        action: 'complete',\n",
              "      }\n",
              "    };\n",
              "  }\n",
              "\n",
              "  for (const file of files) {\n",
              "    const li = document.createElement('li');\n",
              "    li.append(span(file.name, {fontWeight: 'bold'}));\n",
              "    li.append(span(\n",
              "        `(${file.type || 'n/a'}) - ${file.size} bytes, ` +\n",
              "        `last modified: ${\n",
              "            file.lastModifiedDate ? file.lastModifiedDate.toLocaleDateString() :\n",
              "                                    'n/a'} - `));\n",
              "    const percent = span('0% done');\n",
              "    li.appendChild(percent);\n",
              "\n",
              "    outputElement.appendChild(li);\n",
              "\n",
              "    const fileDataPromise = new Promise((resolve) => {\n",
              "      const reader = new FileReader();\n",
              "      reader.onload = (e) => {\n",
              "        resolve(e.target.result);\n",
              "      };\n",
              "      reader.readAsArrayBuffer(file);\n",
              "    });\n",
              "    // Wait for the data to be ready.\n",
              "    let fileData = yield {\n",
              "      promise: fileDataPromise,\n",
              "      response: {\n",
              "        action: 'continue',\n",
              "      }\n",
              "    };\n",
              "\n",
              "    // Use a chunked sending to avoid message size limits. See b/62115660.\n",
              "    let position = 0;\n",
              "    do {\n",
              "      const length = Math.min(fileData.byteLength - position, MAX_PAYLOAD_SIZE);\n",
              "      const chunk = new Uint8Array(fileData, position, length);\n",
              "      position += length;\n",
              "\n",
              "      const base64 = btoa(String.fromCharCode.apply(null, chunk));\n",
              "      yield {\n",
              "        response: {\n",
              "          action: 'append',\n",
              "          file: file.name,\n",
              "          data: base64,\n",
              "        },\n",
              "      };\n",
              "\n",
              "      let percentDone = fileData.byteLength === 0 ?\n",
              "          100 :\n",
              "          Math.round((position / fileData.byteLength) * 100);\n",
              "      percent.textContent = `${percentDone}% done`;\n",
              "\n",
              "    } while (position < fileData.byteLength);\n",
              "  }\n",
              "\n",
              "  // All done.\n",
              "  yield {\n",
              "    response: {\n",
              "      action: 'complete',\n",
              "    }\n",
              "  };\n",
              "}\n",
              "\n",
              "scope.google = scope.google || {};\n",
              "scope.google.colab = scope.google.colab || {};\n",
              "scope.google.colab._files = {\n",
              "  _uploadFiles,\n",
              "  _uploadFilesContinue,\n",
              "};\n",
              "})(self);\n",
              "</script> "
            ]
          },
          "metadata": {}
        },
        {
          "output_type": "stream",
          "name": "stdout",
          "text": [
            "Saving Indonesia_poverty_2.xlsx to Indonesia_poverty_2 (2).xlsx\n"
          ]
        }
      ],
      "source": [
        "from google.colab import files\n",
        "uploaded = files.upload()"
      ]
    },
    {
      "cell_type": "code",
      "execution_count": null,
      "metadata": {
        "id": "Mjg6c7SIeDQ9"
      },
      "outputs": [],
      "source": [
        "# data untuk kemiskinan\n",
        "data = pd.read_excel('Socio_Demographic.xlsx',sheet_name=\"Poverty_Stat\")"
      ]
    },
    {
      "cell_type": "code",
      "execution_count": 58,
      "metadata": {
        "id": "c7AELVsS4IjP"
      },
      "outputs": [],
      "source": [
        "# all data yang dibutuhkan untuk analisis\n",
        "data1= pd.read_excel('Indonesia_poverty_2.xlsx',sheet_name=\"Sheet1\")"
      ]
    },
    {
      "cell_type": "markdown",
      "source": [
        "Preprocessing Data"
      ],
      "metadata": {
        "id": "hXARVGT7T_nO"
      }
    },
    {
      "cell_type": "code",
      "source": [
        "# hapus baris dengan index kolom pertama\n",
        "data = data.dropna(how='all', subset=data.columns[1:])"
      ],
      "metadata": {
        "id": "ueY6x7bbT-7O"
      },
      "execution_count": null,
      "outputs": []
    },
    {
      "cell_type": "code",
      "source": [
        "# harus kolom dengan index baris pertama\n",
        "data = data.loc[:, data.iloc[1:].notna().any(axis=0)] #drop colomn are blanks exc row 1"
      ],
      "metadata": {
        "id": "fdMLlpRIUdez"
      },
      "execution_count": null,
      "outputs": []
    },
    {
      "cell_type": "code",
      "source": [
        "# Convert kolom tgl ke format date\n",
        "data['Select this link and click Refresh/Edit Download to update data and add or remove series'] = pd.to_datetime(data['Select this link and click Refresh/Edit Download to update data and add or remove series'], format='%d-%m-%Y', errors='coerce')\n",
        "# Extract tahun dari kolom tgl\n",
        "data['Year'] = data['Select this link and click Refresh/Edit Download to update data and add or remove series'].dt.year\n",
        "data = data.groupby('Year').agg({\n",
        "    'Number of Poor People: East Java (Indonesia)': 'sum',\n",
        "    'Number of Poor People: West Java (Indonesia)': 'sum',\n",
        "    'Number of Poor People: Central Java (Indonesia)': 'sum',\n",
        "    'Number of Poor People: North Sumatera (Indonesia)': 'sum',\n",
        "    'Number of Poor People: East Nusa Tenggara (Indonesia)': 'sum'\n",
        "}).reset_index()"
      ],
      "metadata": {
        "id": "mM1P3_RsUfwx"
      },
      "execution_count": null,
      "outputs": []
    },
    {
      "cell_type": "code",
      "source": [
        "#download hasil data\n",
        "data.to_excel(\"kemiskinan indonesia.xlsx\")"
      ],
      "metadata": {
        "id": "Ks39and2UicY"
      },
      "execution_count": null,
      "outputs": []
    },
    {
      "cell_type": "markdown",
      "source": [
        "Cleaning Data"
      ],
      "metadata": {
        "id": "NZ3s2luPT8qx"
      }
    },
    {
      "cell_type": "code",
      "source": [
        "# Cek missing values\n",
        "print(data1.isnull().sum().sum())"
      ],
      "metadata": {
        "colab": {
          "base_uri": "https://localhost:8080/"
        },
        "id": "nMXLUVkOT72e",
        "outputId": "25a58ea4-00fc-4cce-c53a-f1b84fb08729"
      },
      "execution_count": 5,
      "outputs": [
        {
          "output_type": "stream",
          "name": "stdout",
          "text": [
            "0\n"
          ]
        }
      ]
    },
    {
      "cell_type": "markdown",
      "source": [
        "Statistik Deskriptif"
      ],
      "metadata": {
        "id": "GuWnLSwJVFjm"
      }
    },
    {
      "cell_type": "code",
      "source": [
        "# Menampilkan statistik deskriptif\n",
        "print(data1.describe().round(2))"
      ],
      "metadata": {
        "colab": {
          "base_uri": "https://localhost:8080/"
        },
        "id": "a2b7GY8aR-do",
        "outputId": "d6d9055d-d496-43f2-c701-76999780efa7"
      },
      "execution_count": 27,
      "outputs": [
        {
          "output_type": "stream",
          "name": "stdout",
          "text": [
            "          Year  Education  Gini_Coefficient  Indonesia_Poverty\n",
            "count    56.00      56.00             56.00              56.00\n",
            "mean   2013.50   46503.50              0.37             634.51\n",
            "std       4.07   27095.26              0.04             367.60\n",
            "min    2007.00   10278.00              0.30             208.58\n",
            "25%    2010.00   27341.75              0.35             296.96\n",
            "50%    2013.50   41758.00              0.37             557.00\n",
            "75%    2017.00   51653.50              0.40             982.48\n",
            "max    2020.00  114722.00              0.44            1163.60\n"
          ]
        }
      ]
    },
    {
      "cell_type": "code",
      "source": [
        "columns_to_plot = [\"Education\", \"Gini_Coefficient\", \"Indonesia_Poverty\"]\n",
        "\n",
        "# Buat histogram untuk setiap variabel\n",
        "plt.figure(figsize=(12, 4))\n",
        "\n",
        "for i, col in enumerate(columns_to_plot, 1):\n",
        "    plt.subplot(1, 3, i)\n",
        "    sns.histplot(data1[col], bins=20, kde=True, color='blue', edgecolor='black')\n",
        "\n",
        "    # Hitung skewness dan kurtosis\n",
        "    skewness = skew(data1[col].dropna())\n",
        "    kurt = kurtosis(data1[col].dropna())\n",
        "\n",
        "    plt.title(f\"{col}\\nSkewness: {skewness:.2f}, Kurtosis: {kurt:.2f}\")\n",
        "\n",
        "plt.tight_layout()\n",
        "plt.show()"
      ],
      "metadata": {
        "colab": {
          "base_uri": "https://localhost:8080/",
          "height": 407
        },
        "id": "1iHTqLkqgpEi",
        "outputId": "4194c6ce-3e10-405c-c061-0a0b8b7c4a81"
      },
      "execution_count": 10,
      "outputs": [
        {
          "output_type": "display_data",
          "data": {
            "text/plain": [
              "<Figure size 1200x400 with 3 Axes>"
            ],
            "image/png": "[encoded data removed]"
          },
          "metadata": {}
        }
      ]
    },
    {
      "cell_type": "markdown",
      "metadata": {
        "id": "hY44UbeC3I1y"
      },
      "source": [
        "Standardisasi Data"
      ]
    },
    {
      "cell_type": "code",
      "execution_count": 59,
      "metadata": {
        "id": "QjCTQFb2eIc5"
      },
      "outputs": [],
      "source": [
        "scaler = StandardScaler()"
      ]
    },
    {
      "cell_type": "code",
      "execution_count": 60,
      "metadata": {
        "id": "_-WTphT13O-y"
      },
      "outputs": [],
      "source": [
        "data1[['Education', 'Gini_Coefficient', 'Indonesia_Poverty']] = scaler.fit_transform(data1[['Education', 'Gini_Coefficient', 'Indonesia_Poverty']])"
      ]
    },
    {
      "cell_type": "code",
      "execution_count": 47,
      "metadata": {
        "colab": {
          "base_uri": "https://localhost:8080/"
        },
        "collapsed": true,
        "id": "WLGCerTk4vtD",
        "outputId": "89e2b332-b2de-43ef-e72d-05c017ecf526"
      },
      "outputs": [
        {
          "output_type": "stream",
          "name": "stdout",
          "text": [
            "               Province  Year  Education  Gini_Coefficient  Indonesia_Poverty\n",
            "0            Jawa Timur  2007  -0.368818         -0.645848           2.039423\n",
            "1            Jawa Timur  2008   0.059806         -0.978025           1.711093\n",
            "2            Jawa Timur  2009   0.182134         -0.978025           1.338357\n",
            "3            Jawa Timur  2010   0.498835         -0.645848           1.186024\n",
            "4            Jawa Timur  2011   0.759204          0.350684           0.995080\n",
            "..                  ...   ...        ...               ...                ...\n",
            "65  Nusa Tenggara Timur  2016  -1.440821         -0.778718          -1.212677\n",
            "66  Nusa Tenggara Timur  2017  -1.315144         -0.014711          -1.212206\n",
            "67  Nusa Tenggara Timur  2018  -1.290147         -0.014711          -1.216874\n",
            "68  Nusa Tenggara Timur  2019  -1.278730         -0.114364          -1.214626\n",
            "69  Nusa Tenggara Timur  2020  -1.286023         -0.180799          -1.210597\n",
            "\n",
            "[70 rows x 5 columns]\n"
          ]
        }
      ],
      "source": [
        "print(data1)"
      ]
    },
    {
      "cell_type": "markdown",
      "metadata": {
        "id": "0iduXGdL7GpR"
      },
      "source": [
        "MODELING"
      ]
    },
    {
      "cell_type": "code",
      "execution_count": 61,
      "metadata": {
        "id": "8ojfgjrHlYI9",
        "collapsed": true
      },
      "outputs": [],
      "source": [
        "# set index untuk entitas dan tahun\n",
        "data1['Province'] = data1['Province'].astype('category')\n",
        "data1['Year'] = pd.to_datetime(data1['Year'], format='%Y').dt.year\n",
        "data1 = data1.set_index(['Province', 'Year'])"
      ]
    },
    {
      "cell_type": "code",
      "source": [
        "# Mendefinisikan X dan Y\n",
        "X = data1[[\"Education\", \"Gini_Coefficient\"]]\n",
        "y = data1[\"Indonesia_Poverty\"]\n",
        "# Menambahkan konstanta\n",
        "X = sm.add_constant(X)"
      ],
      "metadata": {
        "id": "k0WqTp0NTmIW"
      },
      "execution_count": 62,
      "outputs": []
    },
    {
      "cell_type": "code",
      "execution_count": 63,
      "metadata": {
        "colab": {
          "base_uri": "https://localhost:8080/"
        },
        "id": "V7MfiE6y8s8Q",
        "outputId": "a9a02c19-9f59-4fb2-de0e-d7d9e7aacb5f"
      },
      "outputs": [
        {
          "output_type": "stream",
          "name": "stdout",
          "text": [
            "\n",
            "=== Common Effect Model ===\n",
            "                            OLS Regression Results                            \n",
            "==============================================================================\n",
            "Dep. Variable:      Indonesia_Poverty   R-squared:                       0.345\n",
            "Model:                            OLS   Adj. R-squared:                  0.326\n",
            "Method:                 Least Squares   F-statistic:                     17.67\n",
            "Date:                Sun, 23 Mar 2025   Prob (F-statistic):           6.87e-07\n",
            "Time:                        06:25:41   Log-Likelihood:                -84.500\n",
            "No. Observations:                  70   AIC:                             175.0\n",
            "Df Residuals:                      67   BIC:                             181.7\n",
            "Df Model:                           2                                         \n",
            "Covariance Type:            nonrobust                                         \n",
            "====================================================================================\n",
            "                       coef    std err          t      P>|t|      [0.025      0.975]\n",
            "------------------------------------------------------------------------------------\n",
            "const              -3.4e-16      0.099  -3.44e-15      1.000      -0.197       0.197\n",
            "Education            0.5901      0.117      5.031      0.000       0.356       0.824\n",
            "Gini_Coefficient    -0.0046      0.117     -0.039      0.969      -0.239       0.230\n",
            "==============================================================================\n",
            "Omnibus:                        9.980   Durbin-Watson:                   0.300\n",
            "Prob(Omnibus):                  0.007   Jarque-Bera (JB):               10.301\n",
            "Skew:                           0.932   Prob(JB):                      0.00580\n",
            "Kurtosis:                       3.243   Cond. No.                         1.83\n",
            "==============================================================================\n",
            "\n",
            "Notes:\n",
            "[1] Standard Errors assume that the covariance matrix of the errors is correctly specified.\n"
          ]
        }
      ],
      "source": [
        "# Buat Common Effect Model (CEM)\n",
        "common_model = sm.OLS(y, X).fit()\n",
        "print(\"\\n=== Common Effect Model ===\")\n",
        "print(common_model.summary())"
      ]
    },
    {
      "cell_type": "code",
      "source": [
        "# Buat Fixed Effect Model (FEM)\n",
        "fixed_model = PanelOLS(y, X.drop(columns=\"const\"), entity_effects=True).fit()\n",
        "print(\"\\n=== Fixed Effect Model ===\")\n",
        "print(fixed_model.summary)"
      ],
      "metadata": {
        "colab": {
          "base_uri": "https://localhost:8080/"
        },
        "id": "eW1nRXWiWLui",
        "outputId": "ddfb7b70-117f-4cde-9da1-355db3a3f699"
      },
      "execution_count": 65,
      "outputs": [
        {
          "output_type": "stream",
          "name": "stdout",
          "text": [
            "\n",
            "=== Fixed Effect Model ===\n",
            "                          PanelOLS Estimation Summary                           \n",
            "================================================================================\n",
            "Dep. Variable:      Indonesia_Poverty   R-squared:                        0.7719\n",
            "Estimator:                   PanelOLS   R-squared (Between):             -1.1580\n",
            "No. Observations:                  70   R-squared (Within):               0.7719\n",
            "Date:                Sun, Mar 23 2025   R-squared (Overall):             -0.9713\n",
            "Time:                        06:25:53   Log-likelihood                    34.165\n",
            "Cov. Estimator:            Unadjusted                                           \n",
            "                                        F-statistic:                      106.60\n",
            "Entities:                           5   P-value                           0.0000\n",
            "Avg Obs:                       14.000   Distribution:                    F(2,63)\n",
            "Min Obs:                       14.000                                           \n",
            "Max Obs:                       14.000   F-statistic (robust):             106.60\n",
            "                                        P-value                           0.0000\n",
            "Time periods:                      14   Distribution:                    F(2,63)\n",
            "Avg Obs:                       5.0000                                           \n",
            "Min Obs:                       5.0000                                           \n",
            "Max Obs:                       5.0000                                           \n",
            "                                                                                \n",
            "                                Parameter Estimates                                 \n",
            "====================================================================================\n",
            "                  Parameter  Std. Err.     T-stat    P-value    Lower CI    Upper CI\n",
            "------------------------------------------------------------------------------------\n",
            "Education           -0.5314     0.0488    -10.896     0.0000     -0.6289     -0.4340\n",
            "Gini_Coefficient    -0.0514     0.0332    -1.5495     0.1263     -0.1178      0.0149\n",
            "====================================================================================\n",
            "\n",
            "F-test for Poolability: 451.68\n",
            "P-value: 0.0000\n",
            "Distribution: F(4,63)\n",
            "\n",
            "Included effects: Entity\n"
          ]
        },
        {
          "output_type": "stream",
          "name": "stderr",
          "text": [
            "/usr/local/lib/python3.11/dist-packages/linearmodels/panel/data.py:590: FutureWarning: The default of observed=False is deprecated and will be changed to True in a future version of pandas. Pass observed=False to retain current behavior or observed=True to adopt the future default and silence this warning.\n",
            "  group_mu = self._frame.groupby(level=level).transform(\"mean\")\n",
            "/usr/local/lib/python3.11/dist-packages/linearmodels/panel/data.py:590: FutureWarning: The default of observed=False is deprecated and will be changed to True in a future version of pandas. Pass observed=False to retain current behavior or observed=True to adopt the future default and silence this warning.\n",
            "  group_mu = self._frame.groupby(level=level).transform(\"mean\")\n",
            "/usr/local/lib/python3.11/dist-packages/linearmodels/panel/data.py:680: FutureWarning: The default of observed=False is deprecated and will be changed to True in a future version of pandas. Pass observed=False to retain current behavior or observed=True to adopt the future default and silence this warning.\n",
            "  mu = self._frame.groupby(level=level).mean()\n",
            "/usr/local/lib/python3.11/dist-packages/linearmodels/panel/data.py:680: FutureWarning: The default of observed=False is deprecated and will be changed to True in a future version of pandas. Pass observed=False to retain current behavior or observed=True to adopt the future default and silence this warning.\n",
            "  mu = self._frame.groupby(level=level).mean()\n",
            "/usr/local/lib/python3.11/dist-packages/linearmodels/panel/data.py:640: FutureWarning: The default of observed=False is deprecated and will be changed to True in a future version of pandas. Pass observed=False to retain current behavior or observed=True to adopt the future default and silence this warning.\n",
            "  out = self._frame.groupby(level=level).count()\n",
            "/usr/local/lib/python3.11/dist-packages/linearmodels/panel/data.py:680: FutureWarning: The default of observed=False is deprecated and will be changed to True in a future version of pandas. Pass observed=False to retain current behavior or observed=True to adopt the future default and silence this warning.\n",
            "  mu = self._frame.groupby(level=level).mean()\n",
            "/usr/local/lib/python3.11/dist-packages/linearmodels/panel/data.py:590: FutureWarning: The default of observed=False is deprecated and will be changed to True in a future version of pandas. Pass observed=False to retain current behavior or observed=True to adopt the future default and silence this warning.\n",
            "  group_mu = self._frame.groupby(level=level).transform(\"mean\")\n",
            "/usr/local/lib/python3.11/dist-packages/linearmodels/panel/data.py:680: FutureWarning: The default of observed=False is deprecated and will be changed to True in a future version of pandas. Pass observed=False to retain current behavior or observed=True to adopt the future default and silence this warning.\n",
            "  mu = self._frame.groupby(level=level).mean()\n",
            "/usr/local/lib/python3.11/dist-packages/linearmodels/panel/data.py:680: FutureWarning: The default of observed=False is deprecated and will be changed to True in a future version of pandas. Pass observed=False to retain current behavior or observed=True to adopt the future default and silence this warning.\n",
            "  mu = self._frame.groupby(level=level).mean()\n",
            "/usr/local/lib/python3.11/dist-packages/linearmodels/panel/data.py:590: FutureWarning: The default of observed=False is deprecated and will be changed to True in a future version of pandas. Pass observed=False to retain current behavior or observed=True to adopt the future default and silence this warning.\n",
            "  group_mu = self._frame.groupby(level=level).transform(\"mean\")\n"
          ]
        }
      ]
    },
    {
      "cell_type": "markdown",
      "source": [
        "Uji Chow"
      ],
      "metadata": {
        "id": "BasXbASXXVmC"
      }
    },
    {
      "cell_type": "code",
      "source": [
        "# Uji Chow (untuk membandingkan FEM dan CEM)\n",
        "# 1. Hitung Statistik Uji Chow\n",
        "N = data1.index.get_level_values(\"Province\").nunique()  # Jumlah Provinsi yang dibutuhkan dalam analisis\n",
        "T = data1.index.get_level_values(\"Year\").nunique()  # Jumlah periode waktu\n",
        "K = X.shape[1]  # Jumlah variabel independen\n",
        "# Hitung Sum of Square Residuals dari CEM dan FEM\n",
        "SSR_CEM = common_model.ssr\n",
        "SSR_FEM = np.sum(fixed_model.resids ** 2)\n",
        "# F-statistic\n",
        "F_stat = ((SSR_CEM - SSR_FEM) / (N - 1)) / (SSR_FEM / (N * (T - 1) - K))\n",
        "p_value = 1 - stats.f.cdf(F_stat, N - 1, N * (T - 1) - K)"
      ],
      "metadata": {
        "id": "lNKNKbnMTdgP"
      },
      "execution_count": 71,
      "outputs": []
    },
    {
      "cell_type": "code",
      "source": [
        "# **Hasil Uji Chow**\n",
        "print(\"\\n=== Uji Chow ===\")\n",
        "print(f\"F-Statistic: {F_stat}\")\n",
        "print(f\"P-Value: {p_value}\")\n",
        "\n",
        "# Kesimpulan\n",
        "if p_value < 0.05:\n",
        "    print(\"H0 ditolak sehingga model terbaik adalah Fixed Effect Model\")\n",
        "else:\n",
        "    print(\"H0 diterima sehingga model terbaik adalah Common Effect Model\")"
      ],
      "metadata": {
        "colab": {
          "base_uri": "https://localhost:8080/"
        },
        "id": "TjKyXqUoXGXM",
        "outputId": "775cef3f-43a0-4d5f-c656-7564f30f87eb"
      },
      "execution_count": 72,
      "outputs": [
        {
          "output_type": "stream",
          "name": "stdout",
          "text": [
            "\n",
            "=== Uji Chow ===\n",
            "F-Statistic: 444.5137128958413\n",
            "P-Value: 1.1102230246251565e-16\n",
            "H0 ditolak sehingga model terbaik adalah Fixed Effect Model\n"
          ]
        }
      ]
    },
    {
      "cell_type": "markdown",
      "source": [
        "Asumsi Klasik"
      ],
      "metadata": {
        "id": "qU21zp2kdtv-"
      }
    },
    {
      "cell_type": "code",
      "source": [
        "# Uji Normalitas\n",
        "# Ambil residual dari model Fixed Effect\n",
        "residuals = fixed_model.resids\n",
        "\n",
        "# Uji normalitas Jarque-Bera\n",
        "jb_stat, p_value = jarque_bera(residuals)"
      ],
      "metadata": {
        "id": "qbOdSZBjdxA4"
      },
      "execution_count": 81,
      "outputs": []
    },
    {
      "cell_type": "code",
      "source": [
        "# Tampilkan hasil\n",
        "print(f\"Jarque-Bera Statistic: {jb_stat}\")\n",
        "print(f\"P-Value: {p_value}\")\n",
        "\n",
        "# Interpretasi hasil\n",
        "alpha = 0.05\n",
        "if p_value < alpha:\n",
        "    print(\"H0 ditolak sehingga data tidak berdistribusi normal\")\n",
        "else:\n",
        "    print(\"H0 diterima sehingga data berdistribusi normal\")"
      ],
      "metadata": {
        "colab": {
          "base_uri": "https://localhost:8080/"
        },
        "id": "rMNH7Tc5eAj6",
        "outputId": "5fbc1ee5-7788-4160-9fcc-ee9874df48a6"
      },
      "execution_count": 82,
      "outputs": [
        {
          "output_type": "stream",
          "name": "stdout",
          "text": [
            "Jarque-Bera Statistic: 3.311901963810095\n",
            "P-Value: 0.1909104169995407\n",
            "H0 diterima sehingga data berdistribusi normal\n"
          ]
        }
      ]
    },
    {
      "cell_type": "code",
      "source": [
        "# Grafik histogram untuk uji normalitas\n",
        "plt.figure(figsize=(8,5))\n",
        "sns.histplot(residuals, bins=30, kde=True, color=\"skyblue\")\n",
        "plt.axvline(residuals.mean(), color='red', linestyle='dashed', linewidth=2)  # Garis rata-rata\n",
        "plt.title(\"Histogram Residuals\")\n",
        "plt.xlabel(\"Residuals\")\n",
        "plt.ylabel(\"Frekuensi\")\n",
        "plt.show()"
      ],
      "metadata": {
        "colab": {
          "base_uri": "https://localhost:8080/",
          "height": 487
        },
        "id": "cWecmvw7eddY",
        "outputId": "21f33a8f-997d-4bc9-d2ba-787b659842bd"
      },
      "execution_count": 83,
      "outputs": [
        {
          "output_type": "display_data",
          "data": {
            "text/plain": [
              "<Figure size 800x500 with 1 Axes>"
            ],
            "image/png": "[encoded data removed]"
          },
          "metadata": {}
        }
      ]
    },
    {
      "cell_type": "code",
      "source": [
        "# Uji heteroskedastisitas\n",
        "bp_test = het_breuschpagan(fixed_model.resids, X)\n",
        "bp_p_value = bp_test[1]  # p-value dari uji BP\n"
      ],
      "metadata": {
        "id": "uGvzvDLcuXYs"
      },
      "execution_count": 91,
      "outputs": []
    },
    {
      "cell_type": "code",
      "source": [
        "# Hasil Uji Heteroskedastisitas\n",
        "print(\"\\n=== Uji Heteroskedastisitas ===\")\n",
        "if bp_p_value < 0.05:\n",
        "    print(f\"P-Value: {bp_p_value}\")\n",
        "    print(\"H0 ditolak sehingga terdapat heteroskedastisitas\")\n",
        "else:\n",
        "    print(f\"P-Value: {bp_p_value}\")\n",
        "    print(\"H0 diterima sehingga tidak ada heteroskedastisitas\")"
      ],
      "metadata": {
        "colab": {
          "base_uri": "https://localhost:8080/"
        },
        "id": "qVa_1ht4AOcO",
        "outputId": "d4757aef-8fb0-4897-f1b7-05e5ab90445e"
      },
      "execution_count": 95,
      "outputs": [
        {
          "output_type": "stream",
          "name": "stdout",
          "text": [
            "\n",
            "=== Uji Heteroskedastisitas ===\n",
            "P-Value: 0.21966504737367756\n",
            "H0 diterima sehingga tidak ada heteroskedastisitas\n"
          ]
        }
      ]
    },
    {
      "cell_type": "code",
      "execution_count": null,
      "metadata": {
        "id": "EfZN_PMBgQ7G"
      },
      "outputs": [],
      "source": [
        "data.to_excel(\"indonesia_poverty.xlsx\")"
      ]
    },
    {
      "cell_type": "code",
      "execution_count": null,
      "metadata": {
        "id": "mrSQet7_41l3"
      },
      "outputs": [],
      "source": [
        "data.to_excel(\"standardisasi.xlsx\")"
      ]
    }
  ],
  "metadata": {
    "colab": {
      "provenance": [],
      "authorship_tag": "ABX9TyP5JjLpSnVzDz49nw7wioNP",
      "include_colab_link": true
    },
    "kernelspec": {
      "display_name": "Python 3",
      "name": "python3"
    },
    "language_info": {
      "name": "python"
    }
  },
  "nbformat": 4,
  "nbformat_minor": 0
}